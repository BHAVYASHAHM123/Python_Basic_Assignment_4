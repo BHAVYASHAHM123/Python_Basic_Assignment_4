{
  "nbformat": 4,
  "nbformat_minor": 0,
  "metadata": {
    "colab": {
      "name": "Python_Basic_Assignment_4.ipynb",
      "provenance": []
    },
    "kernelspec": {
      "name": "python3",
      "display_name": "Python 3"
    },
    "language_info": {
      "name": "python"
    }
  },
  "cells": [
    {
      "cell_type": "markdown",
      "source": [
        "Q1) What exactly is []?\n",
        "\n",
        "Ans) [] is square barcket used to represent list "
      ],
      "metadata": {
        "id": "uCpBOKp4u5eR"
      }
    },
    {
      "cell_type": "code",
      "execution_count": 2,
      "metadata": {
        "colab": {
          "base_uri": "https://localhost:8080/"
        },
        "id": "qEJm6Vm2uuLk",
        "outputId": "d825587d-717c-40a5-ead7-86b933f69bee"
      },
      "outputs": [
        {
          "output_type": "stream",
          "name": "stdout",
          "text": [
            "[1, 2, 3, 4, 'bhavya', 'shah', True]\n"
          ]
        }
      ],
      "source": [
        "#eg:\n",
        "\n",
        "l1 = [1, 2, 3, 4, \"bhavya\", \"shah\", True]\n",
        "print(l1)"
      ]
    },
    {
      "cell_type": "markdown",
      "source": [
        "Q2) In a list of values stored in a variable called spam, how would you assign the value &#39;hello&#39; as the\n",
        "third value? (Assume [2, 4, 6, 8, 10] are in spam.)"
      ],
      "metadata": {
        "id": "7cFAophdviIt"
      }
    },
    {
      "cell_type": "code",
      "source": [
        "spam = [2, 4, 6, 8, 10]\n",
        "print(spam)"
      ],
      "metadata": {
        "colab": {
          "base_uri": "https://localhost:8080/"
        },
        "id": "VtpcYveFvZVd",
        "outputId": "91571f9f-4320-4403-b48a-5a12390f15dd"
      },
      "execution_count": 3,
      "outputs": [
        {
          "output_type": "stream",
          "name": "stdout",
          "text": [
            "[2, 4, 6, 8, 10]\n"
          ]
        }
      ]
    },
    {
      "cell_type": "code",
      "source": [
        "spam[2] = \"hello\""
      ],
      "metadata": {
        "id": "_BfFwDFjvwkz"
      },
      "execution_count": 6,
      "outputs": []
    },
    {
      "cell_type": "code",
      "source": [
        "print(spam)"
      ],
      "metadata": {
        "colab": {
          "base_uri": "https://localhost:8080/"
        },
        "id": "pgI_iV4fv2Bf",
        "outputId": "8660ead8-4369-4d08-d162-e97abe10155d"
      },
      "execution_count": 7,
      "outputs": [
        {
          "output_type": "stream",
          "name": "stdout",
          "text": [
            "[2, 4, 'hello', 'hello', 10]\n"
          ]
        }
      ]
    },
    {
      "cell_type": "markdown",
      "source": [
        "Q3) What is the value of spam[int(int('3' * 2) / 11)]?"
      ],
      "metadata": {
        "id": "px_18yeKwNnM"
      }
    },
    {
      "cell_type": "code",
      "source": [
        "spam = [int(int('3'*2) / 11)]\n",
        "print(spam)"
      ],
      "metadata": {
        "colab": {
          "base_uri": "https://localhost:8080/"
        },
        "id": "fsQExNWSv6M3",
        "outputId": "c6307f24-bc43-4ff7-b3cd-1188579555a8"
      },
      "execution_count": 8,
      "outputs": [
        {
          "output_type": "stream",
          "name": "stdout",
          "text": [
            "[3]\n"
          ]
        }
      ]
    },
    {
      "cell_type": "markdown",
      "source": [
        "Q4) What is the value of spam[-1]?"
      ],
      "metadata": {
        "id": "V_3kNP7qxEPb"
      }
    },
    {
      "cell_type": "code",
      "source": [
        "spam[-1]\n",
        "print(spam)"
      ],
      "metadata": {
        "colab": {
          "base_uri": "https://localhost:8080/"
        },
        "id": "Nrlk0U_AxAAg",
        "outputId": "64255214-1e29-4148-f035-f25dde719eae"
      },
      "execution_count": 10,
      "outputs": [
        {
          "output_type": "stream",
          "name": "stdout",
          "text": [
            "[3]\n"
          ]
        }
      ]
    },
    {
      "cell_type": "markdown",
      "source": [
        "Q5) What is the value of spam[:2]?"
      ],
      "metadata": {
        "id": "IE52y_VmxSHu"
      }
    },
    {
      "cell_type": "code",
      "source": [
        "spam[:2]\n",
        "print(spam)"
      ],
      "metadata": {
        "colab": {
          "base_uri": "https://localhost:8080/"
        },
        "id": "4lxDC-RZxLsn",
        "outputId": "236dfee6-2abf-45d0-e96d-64d8fc3517ab"
      },
      "execution_count": 11,
      "outputs": [
        {
          "output_type": "stream",
          "name": "stdout",
          "text": [
            "[3]\n"
          ]
        }
      ]
    },
    {
      "cell_type": "code",
      "source": [
        "bacon = [3.14, \"cat\", 11, \"cat\", True]"
      ],
      "metadata": {
        "id": "Tcz8lROTxXnJ"
      },
      "execution_count": 1,
      "outputs": []
    },
    {
      "cell_type": "markdown",
      "source": [
        "Q6) What is the value of bacon.index(\"cat\")?"
      ],
      "metadata": {
        "id": "6PNZKdXrY3Wa"
      }
    },
    {
      "cell_type": "code",
      "source": [
        "bacon.index(\"cat\")"
      ],
      "metadata": {
        "colab": {
          "base_uri": "https://localhost:8080/"
        },
        "id": "V1WrE9IPY0Ib",
        "outputId": "c8cfd232-6759-460c-b29a-3dd73c5925a1"
      },
      "execution_count": 2,
      "outputs": [
        {
          "output_type": "execute_result",
          "data": {
            "text/plain": [
              "1"
            ]
          },
          "metadata": {},
          "execution_count": 2
        }
      ]
    },
    {
      "cell_type": "markdown",
      "source": [
        "Q7) How does bacon.append(99) change the look of the list value in bacon?"
      ],
      "metadata": {
        "id": "hlOVPVoPZBEj"
      }
    },
    {
      "cell_type": "code",
      "source": [
        "bacon.append(99) \n",
        "print(bacon)"
      ],
      "metadata": {
        "colab": {
          "base_uri": "https://localhost:8080/"
        },
        "id": "i7t6VuB1Y883",
        "outputId": "d982f23a-4c88-40ec-92a4-eb70381d6dd6"
      },
      "execution_count": 5,
      "outputs": [
        {
          "output_type": "stream",
          "name": "stdout",
          "text": [
            "[3.14, 'cat', 11, 'cat', True, 99, 99, 99]\n"
          ]
        }
      ]
    },
    {
      "cell_type": "markdown",
      "source": [
        "Q8)  How does bacon.remove('cat') change the look of the list in bacon?"
      ],
      "metadata": {
        "id": "6_BWGImHZPKc"
      }
    },
    {
      "cell_type": "code",
      "source": [
        "bacon.remove('cat')\n",
        "print(bacon)"
      ],
      "metadata": {
        "colab": {
          "base_uri": "https://localhost:8080/"
        },
        "id": "xaSrtf5yZEbL",
        "outputId": "b283e15f-dca6-4317-b35e-c8bfd009aa0e"
      },
      "execution_count": 7,
      "outputs": [
        {
          "output_type": "stream",
          "name": "stdout",
          "text": [
            "[3.14, 11, True, 99, 99, 99]\n"
          ]
        }
      ]
    },
    {
      "cell_type": "markdown",
      "source": [
        "Q9). What are the list concatenation and list replication operators?\n",
        "\n",
        "Ans) The operator for list concatenation is +, while the operator for replication is *.\n"
      ],
      "metadata": {
        "id": "CqcuQA41ZvOu"
      }
    },
    {
      "cell_type": "markdown",
      "source": [
        "Q10) What is difference between the list methods append() and insert()?\n",
        "\n",
        "Ans) append(): Add the element at the specific index.\n",
        "     insert() : Add the element at the end of the index."
      ],
      "metadata": {
        "id": "RD-m5kCAamaz"
      }
    },
    {
      "cell_type": "markdown",
      "source": [
        "Q11) 11. What are the two methods for removing items from a list?\n",
        "\n",
        "Ans) remove(), pop()"
      ],
      "metadata": {
        "id": "Y-o2GThWa_h-"
      }
    },
    {
      "cell_type": "markdown",
      "source": [
        "Q12). Describe how list values and string values are identical.\n",
        "\n",
        "Ans) Lists and Strings in Python is that both are sequences.\n",
        "The differences between them are that firstly, Lists are mutable but Strings are immutable"
      ],
      "metadata": {
        "id": "-xkvcDxlbT7Y"
      }
    },
    {
      "cell_type": "markdown",
      "source": [
        "Q13)What's the difference between tuples and lists?\n",
        "\n",
        "Ans) The key difference between the tuples and lists is that while the tuples are immutable objects the lists are mutable"
      ],
      "metadata": {
        "id": "Jp7jzW6xcF7l"
      }
    },
    {
      "cell_type": "markdown",
      "source": [
        "Q14) How do you type a tuple value that only contains the integer 42?\n",
        "\n",
        "Ans) 42,"
      ],
      "metadata": {
        "id": "RB58dGw0clWs"
      }
    },
    {
      "cell_type": "markdown",
      "source": [
        "Q15). How do you get a list value's tuple form? How do you get a tuple value's list form?\n",
        "\n",
        "Ans) Tuple () function can take any iterable as an argument and convert it into a tuple object.\n"
      ],
      "metadata": {
        "id": "CmbQ2xJqdX_X"
      }
    },
    {
      "cell_type": "markdown",
      "source": [
        "Q16) Variables that \"contain\" list values are not necessarily lists themselves. Instead, what do they contain?\n",
        "\n",
        "Ans) Variables will contain references to list values rather than list values themselves"
      ],
      "metadata": {
        "id": "aVQNGAKDecAn"
      }
    },
    {
      "cell_type": "markdown",
      "source": [
        "Q17). How do you distinguish between copy.copy() and copy.deepcopy()?\n",
        "\n",
        "Ans) A shallow copy constructs a new compound object and then inserts references into it to the objects found in the original."
      ],
      "metadata": {
        "id": "HOtncuJiebq-"
      }
    },
    {
      "cell_type": "code",
      "source": [
        ""
      ],
      "metadata": {
        "id": "kHi2pT5PZui5"
      },
      "execution_count": null,
      "outputs": []
    }
  ]
}